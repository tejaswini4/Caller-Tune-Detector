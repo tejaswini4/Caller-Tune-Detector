{
 "cells": [
  {
   "cell_type": "markdown",
   "metadata": {},
   "source": [
    "### Ringtone Detection \n",
    " Requirements: inaSpeechSegmenter"
   ]
  },
  {
   "cell_type": "code",
   "execution_count": 2,
   "metadata": {},
   "outputs": [
    {
     "name": "stderr",
     "output_type": "stream",
     "text": [
      "Using TensorFlow backend.\n",
      "C:\\Users\\angus\\Anaconda3\\envs\\audio\\lib\\site-packages\\tensorflow\\python\\framework\\dtypes.py:516: FutureWarning: Passing (type, 1) or '1type' as a synonym of type is deprecated; in a future version of numpy, it will be understood as (type, (1,)) / '(1,)type'.\n",
      "  _np_qint8 = np.dtype([(\"qint8\", np.int8, 1)])\n",
      "C:\\Users\\angus\\Anaconda3\\envs\\audio\\lib\\site-packages\\tensorflow\\python\\framework\\dtypes.py:517: FutureWarning: Passing (type, 1) or '1type' as a synonym of type is deprecated; in a future version of numpy, it will be understood as (type, (1,)) / '(1,)type'.\n",
      "  _np_quint8 = np.dtype([(\"quint8\", np.uint8, 1)])\n",
      "C:\\Users\\angus\\Anaconda3\\envs\\audio\\lib\\site-packages\\tensorflow\\python\\framework\\dtypes.py:518: FutureWarning: Passing (type, 1) or '1type' as a synonym of type is deprecated; in a future version of numpy, it will be understood as (type, (1,)) / '(1,)type'.\n",
      "  _np_qint16 = np.dtype([(\"qint16\", np.int16, 1)])\n",
      "C:\\Users\\angus\\Anaconda3\\envs\\audio\\lib\\site-packages\\tensorflow\\python\\framework\\dtypes.py:519: FutureWarning: Passing (type, 1) or '1type' as a synonym of type is deprecated; in a future version of numpy, it will be understood as (type, (1,)) / '(1,)type'.\n",
      "  _np_quint16 = np.dtype([(\"quint16\", np.uint16, 1)])\n",
      "C:\\Users\\angus\\Anaconda3\\envs\\audio\\lib\\site-packages\\tensorflow\\python\\framework\\dtypes.py:520: FutureWarning: Passing (type, 1) or '1type' as a synonym of type is deprecated; in a future version of numpy, it will be understood as (type, (1,)) / '(1,)type'.\n",
      "  _np_qint32 = np.dtype([(\"qint32\", np.int32, 1)])\n",
      "C:\\Users\\angus\\Anaconda3\\envs\\audio\\lib\\site-packages\\tensorflow\\python\\framework\\dtypes.py:525: FutureWarning: Passing (type, 1) or '1type' as a synonym of type is deprecated; in a future version of numpy, it will be understood as (type, (1,)) / '(1,)type'.\n",
      "  np_resource = np.dtype([(\"resource\", np.ubyte, 1)])\n",
      "C:\\Users\\angus\\Anaconda3\\envs\\audio\\lib\\site-packages\\tensorboard\\compat\\tensorflow_stub\\dtypes.py:541: FutureWarning: Passing (type, 1) or '1type' as a synonym of type is deprecated; in a future version of numpy, it will be understood as (type, (1,)) / '(1,)type'.\n",
      "  _np_qint8 = np.dtype([(\"qint8\", np.int8, 1)])\n",
      "C:\\Users\\angus\\Anaconda3\\envs\\audio\\lib\\site-packages\\tensorboard\\compat\\tensorflow_stub\\dtypes.py:542: FutureWarning: Passing (type, 1) or '1type' as a synonym of type is deprecated; in a future version of numpy, it will be understood as (type, (1,)) / '(1,)type'.\n",
      "  _np_quint8 = np.dtype([(\"quint8\", np.uint8, 1)])\n",
      "C:\\Users\\angus\\Anaconda3\\envs\\audio\\lib\\site-packages\\tensorboard\\compat\\tensorflow_stub\\dtypes.py:543: FutureWarning: Passing (type, 1) or '1type' as a synonym of type is deprecated; in a future version of numpy, it will be understood as (type, (1,)) / '(1,)type'.\n",
      "  _np_qint16 = np.dtype([(\"qint16\", np.int16, 1)])\n",
      "C:\\Users\\angus\\Anaconda3\\envs\\audio\\lib\\site-packages\\tensorboard\\compat\\tensorflow_stub\\dtypes.py:544: FutureWarning: Passing (type, 1) or '1type' as a synonym of type is deprecated; in a future version of numpy, it will be understood as (type, (1,)) / '(1,)type'.\n",
      "  _np_quint16 = np.dtype([(\"quint16\", np.uint16, 1)])\n",
      "C:\\Users\\angus\\Anaconda3\\envs\\audio\\lib\\site-packages\\tensorboard\\compat\\tensorflow_stub\\dtypes.py:545: FutureWarning: Passing (type, 1) or '1type' as a synonym of type is deprecated; in a future version of numpy, it will be understood as (type, (1,)) / '(1,)type'.\n",
      "  _np_qint32 = np.dtype([(\"qint32\", np.int32, 1)])\n",
      "C:\\Users\\angus\\Anaconda3\\envs\\audio\\lib\\site-packages\\tensorboard\\compat\\tensorflow_stub\\dtypes.py:550: FutureWarning: Passing (type, 1) or '1type' as a synonym of type is deprecated; in a future version of numpy, it will be understood as (type, (1,)) / '(1,)type'.\n",
      "  np_resource = np.dtype([(\"resource\", np.ubyte, 1)])\n",
      "C:\\Users\\angus\\Anaconda3\\envs\\audio\\lib\\site-packages\\sidekit\\bosaris\\detplot.py:40: MatplotlibDeprecationWarning: The 'warn' parameter of use() is deprecated since Matplotlib 3.1 and will be removed in 3.3.  If any parameter follows 'warn', they should be pass as keyword, not positionally.\n",
      "  matplotlib.use('PDF', warn=False, force=True)\n"
     ]
    }
   ],
   "source": [
    "### libraries needed\n",
    "from inaSpeechSegmenter import Segmenter, seg2csv\n",
    "import pyaudio\n",
    "import wave\n",
    "from scipy.io.wavfile import write\n",
    "import numpy as np"
   ]
  },
  {
   "cell_type": "code",
   "execution_count": 3,
   "metadata": {},
   "outputs": [
    {
     "name": "stdout",
     "output_type": "stream",
     "text": [
      "WARNING:tensorflow:From C:\\Users\\angus\\Anaconda3\\envs\\audio\\lib\\site-packages\\keras\\backend\\tensorflow_backend.py:4070: The name tf.nn.max_pool is deprecated. Please use tf.nn.max_pool2d instead.\n",
      "\n"
     ]
    }
   ],
   "source": [
    "chunk = 44100*3  # Record in chunks of 1024 samples\n",
    "sample_format = pyaudio.paFloat32  # 32 bits per sample\n",
    "channels = 1\n",
    "frame_rate = 44100  # Record at 44100 samples per second\n",
    "\n",
    "seg = Segmenter()"
   ]
  },
  {
   "cell_type": "code",
   "execution_count": 7,
   "metadata": {},
   "outputs": [],
   "source": [
    "# Function that identifies the start and stop of ringtone\n",
    "def predict_ringtone():\n",
    "        port = pyaudio.PyAudio()  # Create an interface to PortAudio for live audio streaming\n",
    "\n",
    "        print('Computer is Listening you')\n",
    "\n",
    "\n",
    "        stream = port.open(format=sample_format,\n",
    "                        channels=channels,\n",
    "                        rate=frame_rate,\n",
    "                        frames_per_buffer=chunk,\n",
    "                        input=True)\n",
    "\n",
    "\n",
    "        # To know if the start is already printed\n",
    "        start_flag=0\n",
    "        try:\n",
    "            while True:\n",
    "                data = stream.read(chunk)\n",
    "                write('temp.wav', frame_rate, np.frombuffer(data, dtype=np.float32)) \n",
    "                segmentation = seg('temp.wav')\n",
    "                labels=[\"start\" if seg[0] in [\"noEnergy\",\"noise\",\"music\"] else \"stop\" for seg in segmentation]\n",
    "#                 print(segmentation)\n",
    "                if \"start\" in labels and start_flag==0:\n",
    "                    print(\"Ringtone starts\")\n",
    "                    start_flag=1\n",
    "                if \"stop\" in labels:\n",
    "                    print(\"Ringtone stops\")\n",
    "                    break\n",
    "\n",
    "        # To manually stop the application            \n",
    "        except KeyboardInterrupt:\n",
    "            pass\n",
    "\n",
    "        # Stop and close the stream \n",
    "        stream.stop_stream()\n",
    "        stream.close()\n",
    "        # Terminate the PortAudio interface\n",
    "        port.terminate()\n",
    "\n",
    "        print('It stopped listening')"
   ]
  },
  {
   "cell_type": "markdown",
   "metadata": {},
   "source": [
    "### Please play the audio first and then run the below cell immediately for better results"
   ]
  },
  {
   "cell_type": "code",
   "execution_count": 8,
   "metadata": {},
   "outputs": [
    {
     "name": "stdout",
     "output_type": "stream",
     "text": [
      "Computer is Listening you\n",
      "Ringtone starts\n",
      "Ringtone stops\n",
      "It stopped listening\n"
     ]
    }
   ],
   "source": [
    "predict_ringtone()"
   ]
  }
 ],
 "metadata": {
  "kernelspec": {
   "display_name": "Python 3",
   "language": "python",
   "name": "python3"
  },
  "language_info": {
   "codemirror_mode": {
    "name": "ipython",
    "version": 3
   },
   "file_extension": ".py",
   "mimetype": "text/x-python",
   "name": "python",
   "nbconvert_exporter": "python",
   "pygments_lexer": "ipython3",
   "version": "3.6.10"
  }
 },
 "nbformat": 4,
 "nbformat_minor": 4
}
